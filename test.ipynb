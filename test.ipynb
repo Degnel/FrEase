{
 "cells": [
  {
   "cell_type": "code",
   "execution_count": null,
   "metadata": {},
   "outputs": [
    {
     "name": "stdout",
     "output_type": "stream",
     "text": [
      "layers.0.0.weight: tensor([[ 0.2036, -0.2060, -0.0957,  0.1151,  0.2911, -0.0641, -0.1606, -0.2007,\n",
      "          0.0338, -0.1934],\n",
      "        [-0.0173, -0.0323, -0.2908,  0.2869, -0.2102, -0.2665, -0.0364,  0.2834,\n",
      "         -0.1036,  0.2903],\n",
      "        [-0.0317, -0.0364, -0.0987,  0.2421,  0.2965, -0.2978, -0.1696, -0.2782,\n",
      "          0.1023, -0.1444],\n",
      "        [ 0.0234, -0.0346,  0.1689, -0.1511, -0.0519,  0.0808, -0.2542,  0.1485,\n",
      "         -0.2846, -0.2745],\n",
      "        [ 0.2081, -0.2182, -0.1739,  0.0966,  0.0777, -0.0905,  0.2548, -0.1971,\n",
      "         -0.1390,  0.0124]])\n",
      "layers.0.0.bias: tensor([0.1573, 0.2611, 0.2985, 0.1887, 0.0045])\n",
      "layers.1.0.weight: tensor([[ 0.0715, -0.4078, -0.1090,  0.4132, -0.1172],\n",
      "        [ 0.1125,  0.3993, -0.1576,  0.0896, -0.1271],\n",
      "        [-0.1967,  0.3809,  0.0744, -0.2964, -0.3140]])\n",
      "layers.1.0.bias: tensor([ 0.2312,  0.3057, -0.1261])\n"
     ]
    },
    {
     "ename": "RuntimeError",
     "evalue": "Error(s) in loading state_dict for ComplexModel:\n\tMissing key(s) in state_dict: \"layers.0.0.weight\". ",
     "output_type": "error",
     "traceback": [
      "\u001b[31m---------------------------------------------------------------------------\u001b[39m",
      "\u001b[31mRuntimeError\u001b[39m                              Traceback (most recent call last)",
      "\u001b[36mCell\u001b[39m\u001b[36m \u001b[39m\u001b[32mIn[2]\u001b[39m\u001b[32m, line 35\u001b[39m\n\u001b[32m     31\u001b[39m     \u001b[38;5;28mprint\u001b[39m(\u001b[33mf\u001b[39m\u001b[33m\"\u001b[39m\u001b[38;5;132;01m{\u001b[39;00mkey\u001b[38;5;132;01m}\u001b[39;00m\u001b[33m: \u001b[39m\u001b[38;5;132;01m{\u001b[39;00mvalue\u001b[38;5;132;01m}\u001b[39;00m\u001b[33m\"\u001b[39m)\n\u001b[32m     33\u001b[39m \u001b[38;5;28;01mdel\u001b[39;00m state_dict[\u001b[33m\"\u001b[39m\u001b[33mlayers.0.0.weight\u001b[39m\u001b[33m\"\u001b[39m]\n\u001b[32m---> \u001b[39m\u001b[32m35\u001b[39m \u001b[43mmodel\u001b[49m\u001b[43m.\u001b[49m\u001b[43mload_state_dict\u001b[49m\u001b[43m(\u001b[49m\u001b[43mstate_dict\u001b[49m\u001b[43m)\u001b[49m\n",
      "\u001b[36mFile \u001b[39m\u001b[32m~/Documents/FrEase/.venv/lib/python3.11/site-packages/torch/nn/modules/module.py:2581\u001b[39m, in \u001b[36mModule.load_state_dict\u001b[39m\u001b[34m(self, state_dict, strict, assign)\u001b[39m\n\u001b[32m   2573\u001b[39m         error_msgs.insert(\n\u001b[32m   2574\u001b[39m             \u001b[32m0\u001b[39m,\n\u001b[32m   2575\u001b[39m             \u001b[33m\"\u001b[39m\u001b[33mMissing key(s) in state_dict: \u001b[39m\u001b[38;5;132;01m{}\u001b[39;00m\u001b[33m. \u001b[39m\u001b[33m\"\u001b[39m.format(\n\u001b[32m   2576\u001b[39m                 \u001b[33m\"\u001b[39m\u001b[33m, \u001b[39m\u001b[33m\"\u001b[39m.join(\u001b[33mf\u001b[39m\u001b[33m'\u001b[39m\u001b[33m\"\u001b[39m\u001b[38;5;132;01m{\u001b[39;00mk\u001b[38;5;132;01m}\u001b[39;00m\u001b[33m\"\u001b[39m\u001b[33m'\u001b[39m \u001b[38;5;28;01mfor\u001b[39;00m k \u001b[38;5;129;01min\u001b[39;00m missing_keys)\n\u001b[32m   2577\u001b[39m             ),\n\u001b[32m   2578\u001b[39m         )\n\u001b[32m   2580\u001b[39m \u001b[38;5;28;01mif\u001b[39;00m \u001b[38;5;28mlen\u001b[39m(error_msgs) > \u001b[32m0\u001b[39m:\n\u001b[32m-> \u001b[39m\u001b[32m2581\u001b[39m     \u001b[38;5;28;01mraise\u001b[39;00m \u001b[38;5;167;01mRuntimeError\u001b[39;00m(\n\u001b[32m   2582\u001b[39m         \u001b[33m\"\u001b[39m\u001b[33mError(s) in loading state_dict for \u001b[39m\u001b[38;5;132;01m{}\u001b[39;00m\u001b[33m:\u001b[39m\u001b[38;5;130;01m\\n\u001b[39;00m\u001b[38;5;130;01m\\t\u001b[39;00m\u001b[38;5;132;01m{}\u001b[39;00m\u001b[33m\"\u001b[39m.format(\n\u001b[32m   2583\u001b[39m             \u001b[38;5;28mself\u001b[39m.\u001b[34m__class__\u001b[39m.\u001b[34m__name__\u001b[39m, \u001b[33m\"\u001b[39m\u001b[38;5;130;01m\\n\u001b[39;00m\u001b[38;5;130;01m\\t\u001b[39;00m\u001b[33m\"\u001b[39m.join(error_msgs)\n\u001b[32m   2584\u001b[39m         )\n\u001b[32m   2585\u001b[39m     )\n\u001b[32m   2586\u001b[39m \u001b[38;5;28;01mreturn\u001b[39;00m _IncompatibleKeys(missing_keys, unexpected_keys)\n",
      "\u001b[31mRuntimeError\u001b[39m: Error(s) in loading state_dict for ComplexModel:\n\tMissing key(s) in state_dict: \"layers.0.0.weight\". "
     ]
    }
   ],
   "source": [
    "import torch\n",
    "import torch.nn as nn\n",
    "\n",
    "\n",
    "# Définition d'un modèle complexe avec des ModuleList imbriqués\n",
    "class ComplexModel(nn.Module):\n",
    "    def __init__(self):\n",
    "        super(ComplexModel, self).__init__()\n",
    "        self.layers = nn.ModuleList(\n",
    "            [\n",
    "                nn.ModuleList([nn.Linear(10, 5), nn.ReLU()]),\n",
    "                nn.ModuleList([nn.Linear(5, 3), nn.Sigmoid()]),\n",
    "            ]\n",
    "        )\n",
    "\n",
    "    def forward(self, x):\n",
    "        for layer_group in self.layers:\n",
    "            for layer in layer_group:\n",
    "                x = layer(x)\n",
    "        return x\n",
    "\n",
    "\n",
    "# Instanciation du modèle\n",
    "model = ComplexModel()\n",
    "\n",
    "# Affichage du state_dict du modèle\n",
    "state_dict = model.state_dict()\n",
    "for key, value in state_dict.items():\n",
    "    print(f\"{key}: {value}\")\n",
    "\n",
    "del state_dict[\"layers.0.0.weight\"]\n",
    "\n",
    "model.load_state_dict(state_dict)"
   ]
  },
  {
   "cell_type": "code",
   "execution_count": null,
   "metadata": {},
   "outputs": [
    {
     "name": "stdout",
     "output_type": "stream",
     "text": [
      "Paramètre non fourni\n",
      "Paramètre non fourni\n",
      "Paramètre non fourni\n"
     ]
    }
   ],
   "source": [
    "import inspect\n",
    "\n",
    "def ma_fonction(param=42):\n",
    "    signature = inspect.signature(ma_fonction)\n",
    "    bound_args = signature.bind_partial()\n",
    "    \n",
    "    if 'param' not in bound_args.arguments:\n",
    "        print(\"Paramètre non fourni\")\n",
    "    else:\n",
    "        print(f\"Paramètre fourni : {param}\")\n",
    "\n",
    "ma_fonction()       # Paramètre non fourni\n",
    "ma_fonction(42)     # Paramètre fourni : 42\n",
    "ma_fonction(100)    # Paramètre fourni : 100"
   ]
  }
 ],
 "metadata": {
  "kernelspec": {
   "display_name": ".venv",
   "language": "python",
   "name": "python3"
  },
  "language_info": {
   "codemirror_mode": {
    "name": "ipython",
    "version": 3
   },
   "file_extension": ".py",
   "mimetype": "text/x-python",
   "name": "python",
   "nbconvert_exporter": "python",
   "pygments_lexer": "ipython3",
   "version": "3.11.11"
  }
 },
 "nbformat": 4,
 "nbformat_minor": 2
}
